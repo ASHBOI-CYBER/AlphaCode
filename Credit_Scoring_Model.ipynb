{
 "cells": [
  {
   "cell_type": "code",
   "execution_count": 1,
   "id": "a949808a",
   "metadata": {},
   "outputs": [],
   "source": [
    "column_names = [\n",
    "    \"Status\", \"Duration\", \"CreditHistory\", \"Purpose\", \"CreditAmount\",\n",
    "    \"Savings\", \"EmploymentSince\", \"InstallmentRate\", \"PersonalStatusSex\",\n",
    "    \"OtherDebtors\", \"ResidenceSince\", \"Property\", \"Age\",\n",
    "    \"OtherInstallmentPlans\", \"Housing\", \"NumberExistingCredits\",\n",
    "    \"Job\", \"NumberPeopleLiable\", \"Telephone\", \"ForeignWorker\", \"Creditability\"\n",
    "]"
   ]
  },
  {
   "cell_type": "code",
   "execution_count": 2,
   "id": "52b0ef1d",
   "metadata": {},
   "outputs": [
    {
     "name": "stdout",
     "output_type": "stream",
     "text": [
      "  Status  Duration CreditHistory Purpose  CreditAmount Savings  \\\n",
      "0    A11         6           A34     A43          1169     A65   \n",
      "1    A12        48           A32     A43          5951     A61   \n",
      "2    A14        12           A34     A46          2096     A61   \n",
      "3    A11        42           A32     A42          7882     A61   \n",
      "4    A11        24           A33     A40          4870     A61   \n",
      "\n",
      "  EmploymentSince  InstallmentRate PersonalStatusSex OtherDebtors  ...  \\\n",
      "0             A75                4               A93         A101  ...   \n",
      "1             A73                2               A92         A101  ...   \n",
      "2             A74                2               A93         A101  ...   \n",
      "3             A74                2               A93         A103  ...   \n",
      "4             A73                3               A93         A101  ...   \n",
      "\n",
      "   Property Age  OtherInstallmentPlans Housing NumberExistingCredits   Job  \\\n",
      "0      A121  67                   A143    A152                     2  A173   \n",
      "1      A121  22                   A143    A152                     1  A173   \n",
      "2      A121  49                   A143    A152                     1  A172   \n",
      "3      A122  45                   A143    A153                     1  A173   \n",
      "4      A124  53                   A143    A153                     2  A173   \n",
      "\n",
      "  NumberPeopleLiable  Telephone ForeignWorker Creditability  \n",
      "0                  1       A192          A201             1  \n",
      "1                  1       A191          A201             0  \n",
      "2                  2       A191          A201             1  \n",
      "3                  2       A191          A201             1  \n",
      "4                  2       A191          A201             0  \n",
      "\n",
      "[5 rows x 21 columns]\n"
     ]
    }
   ],
   "source": [
    "import pandas as pd\n",
    "df = pd.read_csv(\"german.data\", sep=' ', names=column_names)\n",
    "df[\"Creditability\"] = df[\"Creditability\"].map({1: 1, 2: 0})\n",
    "print(df.head())"
   ]
  },
  {
   "cell_type": "code",
   "execution_count": 3,
   "id": "4e634fdc",
   "metadata": {},
   "outputs": [],
   "source": [
    "categorical_cols = df.select_dtypes(include='object').columns\n",
    "df = pd.get_dummies(df, columns=categorical_cols, drop_first=True)"
   ]
  },
  {
   "cell_type": "code",
   "execution_count": 4,
   "id": "c62d0c48",
   "metadata": {},
   "outputs": [],
   "source": [
    "from sklearn.model_selection import train_test_split\n",
    "from sklearn.preprocessing import StandardScaler\n",
    "\n",
    "X = df.drop(\"Creditability\", axis=1)\n",
    "y = df[\"Creditability\"]\n",
    "X_train, X_test, y_train, y_test = train_test_split(X, y, stratify=y, test_size=0.2, random_state=42)\n",
    "scaler = StandardScaler()\n",
    "X_train = scaler.fit_transform(X_train)\n",
    "X_test = scaler.transform(X_test)"
   ]
  },
  {
   "cell_type": "code",
   "execution_count": 5,
   "id": "add2cc6a",
   "metadata": {},
   "outputs": [
    {
     "name": "stdout",
     "output_type": "stream",
     "text": [
      "Accuracy: 0.735\n",
      "              precision    recall  f1-score   support\n",
      "\n",
      "           0       0.59      0.40      0.48        60\n",
      "           1       0.77      0.88      0.82       140\n",
      "\n",
      "    accuracy                           0.73       200\n",
      "   macro avg       0.68      0.64      0.65       200\n",
      "weighted avg       0.72      0.73      0.72       200\n",
      "\n"
     ]
    }
   ],
   "source": [
    "from sklearn.ensemble import RandomForestClassifier\n",
    "from sklearn.metrics import classification_report, accuracy_score\n",
    "\n",
    "model = RandomForestClassifier(random_state=42)\n",
    "model.fit(X_train, y_train)\n",
    "\n",
    "y_pred = model.predict(X_test)\n",
    "\n",
    "print(\"Accuracy:\", accuracy_score(y_test, y_pred))\n",
    "print(classification_report(y_test, y_pred))"
   ]
  },
  {
   "cell_type": "code",
   "execution_count": null,
   "id": "b15c47c6",
   "metadata": {},
   "outputs": [],
   "source": []
  }
 ],
 "metadata": {
  "kernelspec": {
   "display_name": "Python 3 (ipykernel)",
   "language": "python",
   "name": "python3"
  },
  "language_info": {
   "codemirror_mode": {
    "name": "ipython",
    "version": 3
   },
   "file_extension": ".py",
   "mimetype": "text/x-python",
   "name": "python",
   "nbconvert_exporter": "python",
   "pygments_lexer": "ipython3",
   "version": "3.11.4"
  }
 },
 "nbformat": 4,
 "nbformat_minor": 5
}
